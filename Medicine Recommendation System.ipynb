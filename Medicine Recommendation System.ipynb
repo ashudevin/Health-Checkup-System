{
 "cells": [
  {
   "cell_type": "code",
   "execution_count": null,
   "id": "4e4766bf",
   "metadata": {},
   "outputs": [],
   "source": [
    "import pandas as pd\n",
    "import numpy as np"
   ]
  },
  {
   "cell_type": "code",
   "execution_count": 6,
   "id": "56ce4778",
   "metadata": {},
   "outputs": [],
   "source": [
    "df = pd.read_csv('datasets/Training.csv')"
   ]
  },
  {
   "cell_type": "code",
   "execution_count": 7,
   "id": "5f18d6d2",
   "metadata": {},
   "outputs": [
    {
     "data": {
      "text/html": [
       "<div>\n",
       "<style scoped>\n",
       "    .dataframe tbody tr th:only-of-type {\n",
       "        vertical-align: middle;\n",
       "    }\n",
       "\n",
       "    .dataframe tbody tr th {\n",
       "        vertical-align: top;\n",
       "    }\n",
       "\n",
       "    .dataframe thead th {\n",
       "        text-align: right;\n",
       "    }\n",
       "</style>\n",
       "<table border=\"1\" class=\"dataframe\">\n",
       "  <thead>\n",
       "    <tr style=\"text-align: right;\">\n",
       "      <th></th>\n",
       "      <th>itching</th>\n",
       "      <th>skin_rash</th>\n",
       "      <th>nodal_skin_eruptions</th>\n",
       "      <th>continuous_sneezing</th>\n",
       "      <th>shivering</th>\n",
       "      <th>chills</th>\n",
       "      <th>joint_pain</th>\n",
       "      <th>stomach_pain</th>\n",
       "      <th>acidity</th>\n",
       "      <th>ulcers_on_tongue</th>\n",
       "      <th>...</th>\n",
       "      <th>blackheads</th>\n",
       "      <th>scurring</th>\n",
       "      <th>skin_peeling</th>\n",
       "      <th>silver_like_dusting</th>\n",
       "      <th>small_dents_in_nails</th>\n",
       "      <th>inflammatory_nails</th>\n",
       "      <th>blister</th>\n",
       "      <th>red_sore_around_nose</th>\n",
       "      <th>yellow_crust_ooze</th>\n",
       "      <th>prognosis</th>\n",
       "    </tr>\n",
       "  </thead>\n",
       "  <tbody>\n",
       "    <tr>\n",
       "      <th>0</th>\n",
       "      <td>1</td>\n",
       "      <td>1</td>\n",
       "      <td>1</td>\n",
       "      <td>0</td>\n",
       "      <td>0</td>\n",
       "      <td>0</td>\n",
       "      <td>0</td>\n",
       "      <td>0</td>\n",
       "      <td>0</td>\n",
       "      <td>0</td>\n",
       "      <td>...</td>\n",
       "      <td>0</td>\n",
       "      <td>0</td>\n",
       "      <td>0</td>\n",
       "      <td>0</td>\n",
       "      <td>0</td>\n",
       "      <td>0</td>\n",
       "      <td>0</td>\n",
       "      <td>0</td>\n",
       "      <td>0</td>\n",
       "      <td>Fungal infection</td>\n",
       "    </tr>\n",
       "    <tr>\n",
       "      <th>1</th>\n",
       "      <td>0</td>\n",
       "      <td>1</td>\n",
       "      <td>1</td>\n",
       "      <td>0</td>\n",
       "      <td>0</td>\n",
       "      <td>0</td>\n",
       "      <td>0</td>\n",
       "      <td>0</td>\n",
       "      <td>0</td>\n",
       "      <td>0</td>\n",
       "      <td>...</td>\n",
       "      <td>0</td>\n",
       "      <td>0</td>\n",
       "      <td>0</td>\n",
       "      <td>0</td>\n",
       "      <td>0</td>\n",
       "      <td>0</td>\n",
       "      <td>0</td>\n",
       "      <td>0</td>\n",
       "      <td>0</td>\n",
       "      <td>Fungal infection</td>\n",
       "    </tr>\n",
       "    <tr>\n",
       "      <th>2</th>\n",
       "      <td>1</td>\n",
       "      <td>0</td>\n",
       "      <td>1</td>\n",
       "      <td>0</td>\n",
       "      <td>0</td>\n",
       "      <td>0</td>\n",
       "      <td>0</td>\n",
       "      <td>0</td>\n",
       "      <td>0</td>\n",
       "      <td>0</td>\n",
       "      <td>...</td>\n",
       "      <td>0</td>\n",
       "      <td>0</td>\n",
       "      <td>0</td>\n",
       "      <td>0</td>\n",
       "      <td>0</td>\n",
       "      <td>0</td>\n",
       "      <td>0</td>\n",
       "      <td>0</td>\n",
       "      <td>0</td>\n",
       "      <td>Fungal infection</td>\n",
       "    </tr>\n",
       "    <tr>\n",
       "      <th>3</th>\n",
       "      <td>1</td>\n",
       "      <td>1</td>\n",
       "      <td>0</td>\n",
       "      <td>0</td>\n",
       "      <td>0</td>\n",
       "      <td>0</td>\n",
       "      <td>0</td>\n",
       "      <td>0</td>\n",
       "      <td>0</td>\n",
       "      <td>0</td>\n",
       "      <td>...</td>\n",
       "      <td>0</td>\n",
       "      <td>0</td>\n",
       "      <td>0</td>\n",
       "      <td>0</td>\n",
       "      <td>0</td>\n",
       "      <td>0</td>\n",
       "      <td>0</td>\n",
       "      <td>0</td>\n",
       "      <td>0</td>\n",
       "      <td>Fungal infection</td>\n",
       "    </tr>\n",
       "    <tr>\n",
       "      <th>4</th>\n",
       "      <td>1</td>\n",
       "      <td>1</td>\n",
       "      <td>1</td>\n",
       "      <td>0</td>\n",
       "      <td>0</td>\n",
       "      <td>0</td>\n",
       "      <td>0</td>\n",
       "      <td>0</td>\n",
       "      <td>0</td>\n",
       "      <td>0</td>\n",
       "      <td>...</td>\n",
       "      <td>0</td>\n",
       "      <td>0</td>\n",
       "      <td>0</td>\n",
       "      <td>0</td>\n",
       "      <td>0</td>\n",
       "      <td>0</td>\n",
       "      <td>0</td>\n",
       "      <td>0</td>\n",
       "      <td>0</td>\n",
       "      <td>Fungal infection</td>\n",
       "    </tr>\n",
       "  </tbody>\n",
       "</table>\n",
       "<p>5 rows × 133 columns</p>\n",
       "</div>"
      ],
      "text/plain": [
       "   itching  skin_rash  nodal_skin_eruptions  continuous_sneezing  shivering  \\\n",
       "0        1          1                     1                    0          0   \n",
       "1        0          1                     1                    0          0   \n",
       "2        1          0                     1                    0          0   \n",
       "3        1          1                     0                    0          0   \n",
       "4        1          1                     1                    0          0   \n",
       "\n",
       "   chills  joint_pain  stomach_pain  acidity  ulcers_on_tongue  ...  \\\n",
       "0       0           0             0        0                 0  ...   \n",
       "1       0           0             0        0                 0  ...   \n",
       "2       0           0             0        0                 0  ...   \n",
       "3       0           0             0        0                 0  ...   \n",
       "4       0           0             0        0                 0  ...   \n",
       "\n",
       "   blackheads  scurring  skin_peeling  silver_like_dusting  \\\n",
       "0           0         0             0                    0   \n",
       "1           0         0             0                    0   \n",
       "2           0         0             0                    0   \n",
       "3           0         0             0                    0   \n",
       "4           0         0             0                    0   \n",
       "\n",
       "   small_dents_in_nails  inflammatory_nails  blister  red_sore_around_nose  \\\n",
       "0                     0                   0        0                     0   \n",
       "1                     0                   0        0                     0   \n",
       "2                     0                   0        0                     0   \n",
       "3                     0                   0        0                     0   \n",
       "4                     0                   0        0                     0   \n",
       "\n",
       "   yellow_crust_ooze         prognosis  \n",
       "0                  0  Fungal infection  \n",
       "1                  0  Fungal infection  \n",
       "2                  0  Fungal infection  \n",
       "3                  0  Fungal infection  \n",
       "4                  0  Fungal infection  \n",
       "\n",
       "[5 rows x 133 columns]"
      ]
     },
     "execution_count": 7,
     "metadata": {},
     "output_type": "execute_result"
    }
   ],
   "source": [
    "df.head()"
   ]
  },
  {
   "cell_type": "code",
   "execution_count": 8,
   "id": "f49b2b12",
   "metadata": {},
   "outputs": [],
   "source": [
    "# vals = dataset.values.flatten()"
   ]
  },
  {
   "cell_type": "code",
   "execution_count": 9,
   "id": "a49049bd",
   "metadata": {},
   "outputs": [
    {
     "data": {
      "text/plain": [
       "(4920, 133)"
      ]
     },
     "execution_count": 9,
     "metadata": {},
     "output_type": "execute_result"
    }
   ],
   "source": [
    "df.shape"
   ]
  },
  {
   "cell_type": "code",
   "execution_count": 10,
   "id": "b1e9c647",
   "metadata": {},
   "outputs": [],
   "source": [
    "from sklearn.model_selection import train_test_split\n",
    "from sklearn.preprocessing import LabelEncoder"
   ]
  },
  {
   "cell_type": "code",
   "execution_count": 11,
   "id": "f38f382a",
   "metadata": {},
   "outputs": [],
   "source": [
    "X = df.drop('prognosis', axis=1)\n",
    "y = df.prognosis\n",
    "\n",
    "le = LabelEncoder()\n",
    "Y = le.fit_transform(y)\n",
    "\n",
    "X_train, X_test, y_train, y_test = train_test_split(X, Y, test_size=0.3, random_state=0)"
   ]
  },
  {
   "cell_type": "markdown",
   "id": "1c1a9ed2",
   "metadata": {},
   "source": [
    "# Training top models"
   ]
  },
  {
   "cell_type": "code",
   "execution_count": 12,
   "id": "5b9c4a9e",
   "metadata": {},
   "outputs": [],
   "source": [
    "from sklearn.datasets import make_classification\n",
    "from sklearn.svm import SVC\n",
    "from sklearn.ensemble import RandomForestClassifier, GradientBoostingClassifier \n",
    "from sklearn.neighbors import KNeighborsClassifier\n",
    "from sklearn.naive_bayes import MultinomialNB\n",
    "from sklearn.metrics import accuracy_score, confusion_matrix \n",
    "import numpy as np \n",
    "\n",
    "# # Create a dictionary to store models\n",
    "# models = {\n",
    "#     'SVC': SVC(kernel='linear'),\n",
    "#     'RandomForest': RandomForestClassifier(n_estimators=100, random_state=42),\n",
    "#     'GradientBoosting': GradientBoostingClassifier(n_estimators=100, random_state=42), \n",
    "#     'KNeighbors': KNeighborsClassifier(n_neighbors=5),\n",
    "#     'MultinomialNB': MultinomialNB() \n",
    "# }\n",
    "\n",
    "# Loop through the models, train, test, and print results\n",
    "# for model_name, model in models.items():\n",
    "#     # Train the model\n",
    "#     model.fit(X_train, y_train)\n",
    "\n",
    "#     # Test the model\n",
    "#     predictions = model.predict(X_test)\n",
    "\n",
    "#     # Calculate accuracy \n",
    "#     accuracy = accuracy_score(y_test, predictions)  \n",
    "#     print(f\"{model_name} Accuracy: {accuracy}\") \n",
    "\n",
    "#     # Calculate confusion matrix\n",
    "#     cm = confusion_matrix(y_test, predictions)\n",
    "#     print(f\"{model_name} Confusion Matrix:\")\n",
    "#     print(np.array2string(cm, separator=', '))\n",
    "\n",
    "#     print(\"\\n\" + \"=\"*40 + \"\\n\")"
   ]
  },
  {
   "cell_type": "markdown",
   "id": "36cee3c8",
   "metadata": {},
   "source": [
    "# single prediction"
   ]
  },
  {
   "cell_type": "code",
   "execution_count": 13,
   "id": "a74ad639",
   "metadata": {},
   "outputs": [
    {
     "data": {
      "text/plain": [
       "1.0"
      ]
     },
     "execution_count": 13,
     "metadata": {},
     "output_type": "execute_result"
    }
   ],
   "source": [
    "# selecting svc\n",
    "svc = SVC(kernel='linear')\n",
    "svc.fit(X_train,y_train)\n",
    "ypred = svc.predict(X_test)\n",
    "accuracy_score(y_test,ypred)"
   ]
  },
  {
   "cell_type": "code",
   "execution_count": 14,
   "id": "fdd98daa",
   "metadata": {},
   "outputs": [],
   "source": [
    "# save svc\n",
    "import pickle\n",
    "pickle.dump(svc,open('svc.pkl','wb'))"
   ]
  },
  {
   "cell_type": "code",
   "execution_count": 15,
   "id": "4dd13145",
   "metadata": {},
   "outputs": [],
   "source": [
    "# load model\n",
    "svc = pickle.load(open('svc.pkl','rb'))"
   ]
  },
  {
   "cell_type": "code",
   "execution_count": 16,
   "id": "8bf40f9d",
   "metadata": {},
   "outputs": [
    {
     "name": "stdout",
     "output_type": "stream",
     "text": [
      "predicted disease : [18]\n",
      "Actual Disease : 18\n"
     ]
    },
    {
     "name": "stderr",
     "output_type": "stream",
     "text": [
      "c:\\Users\\ASUS\\AppData\\Local\\Programs\\Python\\Python312\\Lib\\site-packages\\sklearn\\base.py:465: UserWarning: X does not have valid feature names, but SVC was fitted with feature names\n",
      "  warnings.warn(\n"
     ]
    }
   ],
   "source": [
    "# test 1:\n",
    "print(\"predicted disease :\",svc.predict(X_test.iloc[0].values.reshape(1,-1)))\n",
    "print(\"Actual Disease :\", y_test[0]) "
   ]
  },
  {
   "cell_type": "code",
   "execution_count": 17,
   "id": "786bfd1a",
   "metadata": {},
   "outputs": [
    {
     "name": "stdout",
     "output_type": "stream",
     "text": [
      "predicted disease : [37]\n",
      "Actual Disease : 37\n"
     ]
    },
    {
     "name": "stderr",
     "output_type": "stream",
     "text": [
      "c:\\Users\\ASUS\\AppData\\Local\\Programs\\Python\\Python312\\Lib\\site-packages\\sklearn\\base.py:465: UserWarning: X does not have valid feature names, but SVC was fitted with feature names\n",
      "  warnings.warn(\n"
     ]
    }
   ],
   "source": [
    "# test 2:\n",
    "print(\"predicted disease :\",svc.predict(X_test.iloc[100].values.reshape(1,-1)))\n",
    "print(\"Actual Disease :\", y_test[100])"
   ]
  },
  {
   "cell_type": "code",
   "execution_count": 18,
   "id": "767ed813",
   "metadata": {},
   "outputs": [],
   "source": [
    "sym_des = pd.read_csv(\"datasets/symtoms_df.csv\") \n",
    "precautions = pd.read_csv(\"datasets/precautions_df.csv\") \n",
    "workout = pd.read_csv(\"datasets/workout_df.csv\") \n",
    "description = pd.read_csv(\"datasets/description.csv\") \n",
    "medications = pd.read_csv('datasets/medications.csv')\n",
    "diets = pd.read_csv(\"datasets/diets.csv\")"
   ]
  },
  {
   "cell_type": "code",
   "execution_count": 19,
   "id": "dbe4ba7d",
   "metadata": {},
   "outputs": [],
   "source": [
    "# sym_df = pd.read_csv(\"datasets/Symptom-severity.csv\") \n",
    "# sym_df['Symptom'].to_dict() "
   ]
  },
  {
   "cell_type": "code",
   "execution_count": 20,
   "id": "05a428f9",
   "metadata": {},
   "outputs": [],
   "source": [
    "# dt = {0: 'itching', 1: 'skin_rash', 2: 'nodal_skin_eruptions', 3: 'continuous_sneezing', 4: 'shivering', 5: 'chills', 6: 'joint_pain', 7: 'stomach_pain', 8: 'acidity', 9: 'ulcers_on_tongue', 10: 'muscle_wasting', 11: 'vomiting', 12: 'burning_micturition', 13: 'spotting_urination', 14: 'fatigue', 15: 'weight_gain', 16: 'anxiety', 17: 'cold_hands_and_feets', 18: 'mood_swings', 19: 'weight_loss', 20: 'restlessness', 21: 'lethargy', 22: 'patches_in_throat', 23: 'irregular_sugar_level', 24: 'cough', 25: 'high_fever', 26: 'sunken_eyes', 27: 'breathlessness', 28: 'sweating', 29: 'dehydration', 30: 'indigestion', 31: 'headache', 32: 'yellowish_skin', 33: 'dark_urine', 34: 'nausea', 35: 'loss_of_appetite', 36: 'pain_behind_the_eyes', 37: 'back_pain', 38: 'constipation', 39: 'abdominal_pain', 40: 'diarrhoea', 41: 'mild_fever', 42: 'yellow_urine', 43: 'yellowing_of_eyes', 44: 'acute_liver_failure', 45: 'fluid_overload', 46: 'swelling_of_stomach', 47: 'swelled_lymph_nodes', 48: 'malaise', 49: 'blurred_and_distorted_vision', 50: 'phlegm', 51: 'throat_irritation', 52: 'redness_of_eyes', 53: 'sinus_pressure', 54: 'runny_nose', 55: 'congestion', 56: 'chest_pain', 57: 'weakness_in_limbs', 58: 'fast_heart_rate', 59: 'pain_during_bowel_movements', 60: 'pain_in_anal_region', 61: 'bloody_stool', 62: 'irritation_in_anus', 63: 'neck_pain', 64: 'dizziness', 65: 'cramps', 66: 'bruising', 67: 'obesity', 68: 'swollen_legs', 69: 'swollen_blood_vessels', 70: 'puffy_face_and_eyes', 71: 'enlarged_thyroid', 72: 'brittle_nails', 73: 'swollen_extremeties', 74: 'excessive_hunger', 75: 'extra_marital_contacts', 76: 'drying_and_tingling_lips', 77: 'slurred_speech', 78: 'knee_pain', 79: 'hip_joint_pain', 80: 'muscle_weakness', 81: 'stiff_neck', 82: 'swelling_joints', 83: 'movement_stiffness', 84: 'spinning_movements', 85: 'loss_of_balance', 86: 'unsteadiness', 87: 'weakness_of_one_body_side', 88: 'loss_of_smell', 89: 'bladder_discomfort', 90: 'foul_smell_ofurine', 91: 'continuous_feel_of_urine', 92: 'passage_of_gases', 93: 'internal_itching', 94: 'toxic_look_(typhos)', 95: 'depression', 96: 'irritability', 97: 'muscle_pain', 98: 'altered_sensorium', 99: 'red_spots_over_body', 100: 'belly_pain', 101: 'abnormal_menstruation', 102: 'dischromic_patches', 103: 'watering_from_eyes', 104: 'increased_appetite', 105: 'polyuria', 106: 'family_history', 107: 'mucoid_sputum', 108: 'rusty_sputum', 109: 'lack_of_concentration', 110: 'visual_disturbances', 111: 'receiving_blood_transfusion', 112: 'receiving_unsterile_injections', 113: 'coma', 114: 'stomach_bleeding', 115: 'distention_of_abdomen', 116: 'history_of_alcohol_consumption', 117: 'fluid_overload', 118: 'blood_in_sputum', 119: 'prominent_veins_on_calf', 120: 'palpitations', 121: 'painful_walking', 122: 'pus_filled_pimples', 123: 'blackheads', 124: 'scurring', 125: 'skin_peeling', 126: 'silver_like_dusting', 127: 'small_dents_in_nails', 128: 'inflammatory_nails', 129: 'blister', 130: 'red_sore_around_nose', 131: 'yellow_crust_ooze', 132: 'prognosis'} "
   ]
  },
  {
   "cell_type": "code",
   "execution_count": 49,
   "id": "6cb123a9",
   "metadata": {},
   "outputs": [],
   "source": [
    "#============================================================ \n",
    "# custome and helping functions\n",
    "#==========================helper funtions================\n",
    "def helper(dis):\n",
    "    desc = description[description['Disease'] == dis]['Description']\n",
    "    desc = [d for d in desc.values]\n",
    "\n",
    "    pre = precautions[precautions['Disease'] == dis][['Precaution_1', 'Precaution_2', 'Precaution_3', 'Precaution_4']] \n",
    "    pre = [col for col in pre.values]\n",
    "\n",
    "    med = medications[medications['Disease'] == dis]['Medication']\n",
    "    med = [med for med in med.values]\n",
    "\n",
    "    diet = diets[diets['Disease'] == dis]['Diet']\n",
    "    diet = [diet for diet in diet.values]\n",
    "\n",
    "    wrkout = workout[workout['disease'] == dis] ['workout']\n",
    "\n",
    "    return desc,pre,med,diet,wrkout\n",
    "\n",
    "symptoms_dict = {'itching': 0, 'skin_rash': 1, 'nodal_skin_eruptions': 2, 'continuous_sneezing': 3, 'shivering': 4, 'chills': 5, 'joint_pain': 6, 'stomach_pain': 7, 'acidity': 8, 'ulcers_on_tongue': 9, 'muscle_wasting': 10, 'vomiting': 11, 'burning_micturition': 12, 'spotting_ urination': 13, 'fatigue': 14, 'weight_gain': 15, 'anxiety': 16, 'cold_hands_and_feets': 17, 'mood_swings': 18, 'weight_loss': 19, 'restlessness': 20, 'lethargy': 21, 'patches_in_throat': 22, 'irregular_sugar_level': 23, 'cough': 24, 'high_fever': 25, 'sunken_eyes': 26, 'breathlessness': 27, 'sweating': 28, 'dehydration': 29, 'indigestion': 30, 'headache': 31, 'yellowish_skin': 32, 'dark_urine': 33, 'nausea': 34, 'loss_of_appetite': 35, 'pain_behind_the_eyes': 36, 'back_pain': 37, 'constipation': 38, 'abdominal_pain': 39, 'diarrhoea': 40, 'mild_fever': 41, 'yellow_urine': 42, 'yellowing_of_eyes': 43, 'acute_liver_failure': 44, 'fluid_overload': 45, 'swelling_of_stomach': 46, 'swelled_lymph_nodes': 47, 'malaise': 48, 'blurred_and_distorted_vision': 49, 'phlegm': 50, 'throat_irritation': 51, 'redness_of_eyes': 52, 'sinus_pressure': 53, 'runny_nose': 54, 'congestion': 55, 'chest_pain': 56, 'weakness_in_limbs': 57, 'fast_heart_rate': 58, 'pain_during_bowel_movements': 59, 'pain_in_anal_region': 60, 'bloody_stool': 61, 'irritation_in_anus': 62, 'neck_pain': 63, 'dizziness': 64, 'cramps': 65, 'bruising': 66, 'obesity': 67, 'swollen_legs': 68, 'swollen_blood_vessels': 69, 'puffy_face_and_eyes': 70, 'enlarged_thyroid': 71, 'brittle_nails': 72, 'swollen_extremeties': 73, 'excessive_hunger': 74, 'extra_marital_contacts': 75, 'drying_and_tingling_lips': 76, 'slurred_speech': 77, 'knee_pain': 78, 'hip_joint_pain': 79, 'muscle_weakness': 80, 'stiff_neck': 81, 'swelling_joints': 82, 'movement_stiffness': 83, 'spinning_movements': 84, 'loss_of_balance': 85, 'unsteadiness': 86, 'weakness_of_one_body_side': 87, 'loss_of_smell': 88, 'bladder_discomfort': 89, 'foul_smell_of urine': 90, 'continuous_feel_of_urine': 91, 'passage_of_gases': 92, 'internal_itching': 93, 'toxic_look_(typhos)': 94, 'depression': 95, 'irritability': 96, 'muscle_pain': 97, 'altered_sensorium': 98, 'red_spots_over_body': 99, 'belly_pain': 100, 'abnormal_menstruation': 101, 'dischromic _patches': 102, 'watering_from_eyes': 103, 'increased_appetite': 104, 'polyuria': 105, 'family_history': 106, 'mucoid_sputum': 107, 'rusty_sputum': 108, 'lack_of_concentration': 109, 'visual_disturbances': 110, 'receiving_blood_transfusion': 111, 'receiving_unsterile_injections': 112, 'coma': 113, 'stomach_bleeding': 114, 'distention_of_abdomen': 115, 'history_of_alcohol_consumption': 116, 'fluid_overload.1': 117, 'blood_in_sputum': 118, 'prominent_veins_on_calf': 119, 'palpitations': 120, 'painful_walking': 121, 'pus_filled_pimples': 122, 'blackheads': 123, 'scurring': 124, 'skin_peeling': 125, 'silver_like_dusting': 126, 'small_dents_in_nails': 127, 'inflammatory_nails': 128, 'blister': 129, 'red_sore_around_nose': 130, 'yellow_crust_ooze': 131}\n",
    "diseases_list = {15: 'Fungal infection', 4: 'Allergy', 16: 'GERD', 9: 'Chronic cholestasis', 14: 'Drug Reaction', 33: 'Peptic ulcer diseae', 1: 'AIDS', 12: 'Diabetes ', 17: 'Gastroenteritis', 6: 'Bronchial Asthma', 23: 'Hypertension ', 30: 'Migraine', 7: 'Cervical spondylosis', 32: 'Paralysis (brain hemorrhage)', 28: 'Jaundice', 29: 'Malaria', 8: 'Chicken pox', 11: 'Dengue', 37: 'Typhoid', 40: 'hepatitis A', 19: 'Hepatitis B', 20: 'Hepatitis C', 21: 'Hepatitis D', 22: 'Hepatitis E', 3: 'Alcoholic hepatitis', 36: 'Tuberculosis', 10: 'Common Cold', 34: 'Pneumonia', 13: 'Dimorphic hemmorhoids(piles)', 18: 'Heart attack', 39: 'Varicose veins', 26: 'Hypothyroidism', 24: 'Hyperthyroidism', 25: 'Hypoglycemia', 31: 'Osteoarthristis', 5: 'Arthritis', 0: '(vertigo) Paroymsal  Positional Vertigo', 2: 'Acne', 38: 'Urinary tract infection', 35: 'Psoriasis', 27: 'Impetigo'}\n",
    "# Model Prediction function\n",
    "def get_predicted_value(patient_symptoms):\n",
    "    input_vector = np.zeros(len(symptoms_dict))\n",
    "    for item in patient_symptoms:\n",
    "        input_vector[symptoms_dict[item]] = 1\n",
    "    return diseases_list[svc.predict([input_vector])[0]] "
   ]
  },
  {
   "cell_type": "code",
   "execution_count": 60,
   "id": "8e48a6e5",
   "metadata": {},
   "outputs": [],
   "source": [
    "# symptoms = \"cough, headache\"\n",
    "# user_symptoms = [s.strip() for s in symptoms.split(',')]\n",
    "# user_symptoms = [symptom.strip(\"[]' \") for symptom in user_symptoms]\n",
    "# predicted_disease = get_predicted_value(user_symptoms)\n",
    "\n",
    "# desc = description[description['Disease'] == predicted_disease]['Description']\n",
    "# [x for x in desc.values][0]"
   ]
  },
  {
   "cell_type": "code",
   "execution_count": 59,
   "id": "2d7ee79b",
   "metadata": {},
   "outputs": [
    {
     "name": "stdout",
     "output_type": "stream",
     "text": [
      "\n",
      "=================predicted disease============\n",
      "Urinary tract infection\n",
      "\n",
      "=================description==================\n",
      "['Urinary tract infection is an infection in any part of the urinary system.']\n",
      "\n",
      "=================precautions==================\n",
      "1 :  drink plenty of water\n",
      "2 :  increase vitamin c intake\n",
      "3 :  drink cranberry juice\n",
      "4 :  take probiotics\n",
      "\n",
      "=================medications==================\n",
      "1 :  ['Antibiotics', 'Urinary analgesics', 'Phenazopyridine', 'Antispasmodics', 'Probiotics']\n",
      "\n",
      "=================workout======================\n",
      "1 :  Stay hydrated\n",
      "2 :  Consume cranberry products\n",
      "3 :  Include vitamin C-rich foods\n",
      "4 :  Limit caffeine and alcohol\n",
      "5 :  Consume probiotics\n",
      "6 :  Avoid spicy and acidic foods\n",
      "7 :  Consult a healthcare professional\n",
      "8 :  Follow medical recommendations\n",
      "9 :  Maintain good hygiene\n",
      "10 :  Limit sugary foods and beverages\n",
      "\n",
      "=================diets========================\n",
      "['UTI Diet', 'Hydration', 'Cranberry juice', 'Probiotics', 'Vitamin C-rich foods']\n"
     ]
    },
    {
     "name": "stderr",
     "output_type": "stream",
     "text": [
      "c:\\Users\\ASUS\\AppData\\Local\\Programs\\Python\\Python312\\Lib\\site-packages\\sklearn\\base.py:465: UserWarning: X does not have valid feature names, but SVC was fitted with feature names\n",
      "  warnings.warn(\n"
     ]
    }
   ],
   "source": [
    "# Test 1\n",
    "# Split the user's input into a list of symptoms (assuming they are comma-separated) # yellow_crust_ooze,red_sore_around_nose,small_dents_in_nails,inflammatory_nails,blister\n",
    "symptoms = input(\"Enter your symptoms.......\")\n",
    "try:\n",
    "    user_symptoms = [s.strip() for s in symptoms.split(',')]\n",
    "    # Remove any extra characters, if any\n",
    "    user_symptoms = [symptom.strip(\"[]' \") for symptom in user_symptoms]\n",
    "    predicted_disease = get_predicted_value(user_symptoms)\n",
    "\n",
    "    desc, pre, med, diet, wrkout = helper(predicted_disease)\n",
    "\n",
    "    print(\"\\n=================predicted disease============\")\n",
    "    print(predicted_disease)\n",
    "    print(\"\\n=================description==================\")\n",
    "    print(desc)\n",
    "    print(\"\\n=================precautions==================\")\n",
    "    i = 1\n",
    "    for p_i in pre[0]:\n",
    "        print(i, \": \", p_i)\n",
    "        i += 1\n",
    "    i = 1\n",
    "    print(\"\\n=================medications==================\")\n",
    "    for m_i in med:\n",
    "        print(i, \": \", m_i)\n",
    "        i += 1\n",
    "    i = 1\n",
    "    print(\"\\n=================workout======================\")\n",
    "    for w_i in wrkout:\n",
    "        print(i, \": \", w_i)\n",
    "        i += 1\n",
    "    i = 1\n",
    "    print(\"\\n=================diets========================\")\n",
    "    \n",
    "    print(diet[0])\n",
    "    \n",
    "except:\n",
    "    print(\"Please enter correct spelling of Disease.\")\n"
   ]
  },
  {
   "cell_type": "code",
   "execution_count": 24,
   "id": "a8d5df35",
   "metadata": {},
   "outputs": [
    {
     "name": "stdout",
     "output_type": "stream",
     "text": [
      "1.3.2\n"
     ]
    }
   ],
   "source": [
    "# let's use pycharm flask app\n",
    "# but install this version in pycharm\n",
    "import sklearn\n",
    "print(sklearn.__version__)"
   ]
  },
  {
   "cell_type": "code",
   "execution_count": null,
   "id": "97dfb973",
   "metadata": {},
   "outputs": [],
   "source": []
  }
 ],
 "metadata": {
  "kernelspec": {
   "display_name": "Python 3 (ipykernel)",
   "language": "python",
   "name": "python3"
  },
  "language_info": {
   "codemirror_mode": {
    "name": "ipython",
    "version": 3
   },
   "file_extension": ".py",
   "mimetype": "text/x-python",
   "name": "python",
   "nbconvert_exporter": "python",
   "pygments_lexer": "ipython3",
   "version": "3.12.2"
  }
 },
 "nbformat": 4,
 "nbformat_minor": 5
}
